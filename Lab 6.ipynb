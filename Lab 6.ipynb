{
 "cells": [
  {
   "cell_type": "code",
   "execution_count": 17,
   "id": "882c2e55-666e-4b14-8e53-80f0775d8c19",
   "metadata": {},
   "outputs": [
    {
     "name": "stdout",
     "output_type": "stream",
     "text": [
      "Hello World My Name is: Alice\n",
      "Hello World My Name is: Jhon\n"
     ]
    }
   ],
   "source": [
    "class Person:\n",
    "    def __init__(self,name,age):\n",
    "        self.name=name\n",
    "        self.age=age\n",
    "    def say(self):\n",
    "       print(\"Hello World My Name is:\",self.name)\n",
    "p1=Person(\"Alice\",30)\n",
    "p2=Person(\"Jhon\",40)\n",
    "p1.say()\n",
    "p2.say()"
   ]
  },
  {
   "cell_type": "code",
   "execution_count": 30,
   "id": "22fadfa9-1d21-4fc2-b3af-46a9c5691e83",
   "metadata": {},
   "outputs": [
    {
     "name": "stdout",
     "output_type": "stream",
     "text": [
      "Student Name: John | Roll No: 2\n"
     ]
    }
   ],
   "source": [
    "class Student:\n",
    "    def __init__(self, name, roll_no):\n",
    "        self.name = name\n",
    "        self.roll_no = roll_no\n",
    "\n",
    "# Creating an object of the Student class\n",
    "student1 = Student(\"John\", 2)\n",
    "\n",
    "# Printing the student's name and roll number\n",
    "print(\"Student Name:\", student1.name, \"| Roll No:\", student1.roll_no)\n"
   ]
  },
  {
   "cell_type": "code",
   "execution_count": 32,
   "id": "7f0ee9da-8251-4fcb-b646-e0441753a72e",
   "metadata": {},
   "outputs": [
    {
     "name": "stdout",
     "output_type": "stream",
     "text": [
      "Deposited: 1000  New Balance 1000\n",
      "Withdrawn:  500  New balance: 500\n",
      "Current balance: 500\n"
     ]
    }
   ],
   "source": [
    "class BankAccount:\n",
    "    def __init__(self, account_holder, balance=0):\n",
    "        self.account_holder = account_holder\n",
    "        self.balance = balance\n",
    "\n",
    "    def deposit(self, amount):\n",
    "        self.balance += amount\n",
    "        print(\"Deposited:\",amount,\" New Balance\",self.balance)\n",
    "\n",
    "    def withdraw(self, amount):\n",
    "        if amount > self.balance:\n",
    "            print(\"Insufficient funds!\")\n",
    "        else:\n",
    "            self.balance -= amount\n",
    "            print(f\"Withdrawn: \",amount,\" New balance:\",self.balance)\n",
    "\n",
    "    def check_balance(self):\n",
    "        print(f\"Current balance: {self.balance}\")\n",
    "\n",
    "# Creating a bank account instance and performing operations\n",
    "account = BankAccount(\"Alice\")\n",
    "account.deposit(1000)\n",
    "account.withdraw(500)\n",
    "account.check_balance()\n"
   ]
  },
  {
   "cell_type": "code",
   "execution_count": 34,
   "id": "972e4c95-8d5c-4707-a8ad-2fe31ba9dbd4",
   "metadata": {},
   "outputs": [
    {
     "name": "stdout",
     "output_type": "stream",
     "text": [
      "Name: Alice | Age: 20\n",
      "Name: Bob | Age: 22\n",
      "Name: Charlie | Age: 19\n"
     ]
    }
   ],
   "source": [
    "class Student:\n",
    "    def __init__(self, name, age):\n",
    "        self.name = name\n",
    "        self.age = age\n",
    "\n",
    "# Creating objects to represent different students\n",
    "student1 = Student(\"Alice\", 20)\n",
    "student2 = Student(\"Bob\", 22)\n",
    "student3 = Student(\"Charlie\", 19)\n",
    "\n",
    "# Printing the details of each student\n",
    "for student in [student1, student2, student3]:\n",
    "    print(\"Name:\", student.name, \"| Age:\", student.age)\n"
   ]
  },
  {
   "cell_type": "code",
   "execution_count": null,
   "id": "98015a38-deee-4291-9402-29567bae81aa",
   "metadata": {},
   "outputs": [],
   "source": []
  }
 ],
 "metadata": {
  "kernelspec": {
   "display_name": "Python 3 (ipykernel)",
   "language": "python",
   "name": "python3"
  },
  "language_info": {
   "codemirror_mode": {
    "name": "ipython",
    "version": 3
   },
   "file_extension": ".py",
   "mimetype": "text/x-python",
   "name": "python",
   "nbconvert_exporter": "python",
   "pygments_lexer": "ipython3",
   "version": "3.12.4"
  }
 },
 "nbformat": 4,
 "nbformat_minor": 5
}
