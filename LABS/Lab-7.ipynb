{
 "cells": [
  {
   "cell_type": "code",
   "execution_count": null,
   "id": "960a4a95-ec47-4528-a41d-ddbca9e1621d",
   "metadata": {},
   "outputs": [],
   "source": [
    "# Parent class Person\n",
    "class Person:\n",
    "    def __init__(self, name, age):\n",
    "        self.name = name\n",
    "        self.age = age\n",
    "    \n",
    "    def display(self):\n",
    "        print(f\"Name: {self.name}, Age: {self.age}\")\n",
    "\n",
    "# Subclass Student inheriting from Person\n",
    "class Student(Person):\n",
    "    def __init__(self, name, age, student_id):\n",
    "        super().__init__(name, age)  # Inheriting name and age from Person\n",
    "        self.student_id = student_id\n",
    "    \n",
    "    def show_details(self):\n",
    "        self.display()  # Calling the display() method from Person\n",
    "        print(f\"Student ID: {self.student_id}\")\n",
    "\n",
    "# Example usage\n",
    "student = Student(\"Alice\", 20, \"S12345\")\n",
    "student.show_details()\n"
   ]
  },
  {
   "cell_type": "code",
   "execution_count": null,
   "id": "217f87d4-b7b6-4c74-81de-ffee86655502",
   "metadata": {},
   "outputs": [],
   "source": [
    "# Parent class Vehicle\n",
    "class Vehicle:\n",
    "    def info(self):\n",
    "        print(\"This is a vehicle\")\n",
    "\n",
    "# Subclass Car inheriting from Vehicle\n",
    "class Car(Vehicle):\n",
    "    def car_info(self):\n",
    "        print(\"This is a car\")\n",
    "\n",
    "# Subclass ElectricCar inheriting from Car (which is inherited from Vehicle)\n",
    "class ElectricCar(Car):\n",
    "    def battery_info(self):\n",
    "        print(\"This car has a battery.\")\n",
    "\n",
    "# Example usage\n",
    "electric_car = ElectricCar()\n",
    "electric_car.info()           # From Vehicle\n",
    "electric_car.car_info()       # From Car\n",
    "electric_car.battery_info()   # From ElectricCar\n"
   ]
  },
  {
   "cell_type": "code",
   "execution_count": null,
   "id": "f7ed40a1-62c5-4c50-b387-712a4d9144fb",
   "metadata": {},
   "outputs": [],
   "source": [
    "# Parent class Teacher\n",
    "class Teacher:\n",
    "    def description(self):\n",
    "        print(\"I am a Teacher.\")\n",
    "\n",
    "# Parent class Author\n",
    "class Author:\n",
    "    def description(self):\n",
    "        print(\"I am an Author.\")\n",
    "\n",
    "# Subclass TutorAuthor inheriting from both Teacher and Author\n",
    "class TutorAuthor(Teacher, Author):\n",
    "    def description(self):\n",
    "        super().description()  # Call the method from the first parent (Teacher)\n",
    "        print(\"I also combine teaching and writing.\")\n",
    "\n",
    "# Example usage\n",
    "tutor_author = TutorAuthor()\n",
    "tutor_author.description()\n"
   ]
  },
  {
   "cell_type": "code",
   "execution_count": null,
   "id": "bcc9f579-cff2-4e12-8c57-2f7888862bc9",
   "metadata": {},
   "outputs": [],
   "source": [
    "# Parent class Animal\n",
    "class Animal:\n",
    "    def sound(self):\n",
    "        print(\"Animals make sound\")\n",
    "\n",
    "# Subclass Dog inheriting from Animal\n",
    "class Dog(Animal):\n",
    "    def sound(self):\n",
    "        print(\"Dog barks\")\n",
    "\n",
    "# Subclass Cat inheriting from Animal\n",
    "class Cat(Animal):\n",
    "    def sound(self):\n",
    "        print(\"Cat meows\")\n",
    "\n",
    "# Example usage\n",
    "dog = Dog()\n",
    "cat = Cat()\n",
    "\n",
    "dog.sound()  # Dog's version of sound()\n",
    "cat.sound()  # Cat's version of sound()\n"
   ]
  }
 ],
 "metadata": {
  "kernelspec": {
   "display_name": "Python 3 (ipykernel)",
   "language": "python",
   "name": "python3"
  },
  "language_info": {
   "codemirror_mode": {
    "name": "ipython",
    "version": 3
   },
   "file_extension": ".py",
   "mimetype": "text/x-python",
   "name": "python",
   "nbconvert_exporter": "python",
   "pygments_lexer": "ipython3",
   "version": "3.12.4"
  }
 },
 "nbformat": 4,
 "nbformat_minor": 5
}
