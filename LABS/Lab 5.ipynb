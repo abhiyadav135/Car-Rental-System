{
 "cells": [
  {
   "cell_type": "code",
   "execution_count": 1,
   "id": "dd9013f2-a9b9-4a73-8406-9e7077e1ff8d",
   "metadata": {},
   "outputs": [
    {
     "name": "stdout",
     "output_type": "stream",
     "text": [
      "India,is,my,country\n"
     ]
    }
   ],
   "source": [
    "X = \"India.is.my.country\"\n",
    "result = X.replace('.', ',')\n",
    "print(result)  # Output: India,is,my,country\n"
   ]
  },
  {
   "cell_type": "code",
   "execution_count": 3,
   "id": "b6731399-d2ab-486f-8cdf-ed4ac1c652a5",
   "metadata": {},
   "outputs": [
    {
     "name": "stdout",
     "output_type": "stream",
     "text": [
      "['apple', 'banana', 'grape', 'orange']\n"
     ]
    }
   ],
   "source": [
    "strings = [\"banana\", \"apple\", \"orange\", \"grape\"]\n",
    "sorted_strings = sorted(strings)\n",
    "print(sorted_strings)  # Output: ['apple', 'banana', 'grape', 'orange']\n"
   ]
  },
  {
   "cell_type": "code",
   "execution_count": 5,
   "id": "d84b61bf-ffa6-4454-8a9c-3b81f8f3d113",
   "metadata": {},
   "outputs": [
    {
     "name": "stdout",
     "output_type": "stream",
     "text": [
      "M..N.I.P..L\n"
     ]
    }
   ],
   "source": [
    "Y = \"M.A.N.I.P.A.L\"\n",
    "char_to_remove = 'A'\n",
    "result = Y.replace(char_to_remove, '')\n",
    "print(result)  # Output: M.N.I.P.L\n"
   ]
  },
  {
   "cell_type": "code",
   "execution_count": 7,
   "id": "72fe0675-d580-4361-a0c1-8e1b91060f6e",
   "metadata": {},
   "outputs": [
    {
     "name": "stdout",
     "output_type": "stream",
     "text": [
      "MANIPAL\n"
     ]
    }
   ],
   "source": [
    "Y = \"M.A.N.I.P.A.L\"\n",
    "result = Y.replace('.', '')\n",
    "print(result)  # Output: MANIPAL\n"
   ]
  },
  {
   "cell_type": "code",
   "execution_count": 9,
   "id": "c0f70c68-f147-4897-9fc0-f5cf09ff7e35",
   "metadata": {},
   "outputs": [
    {
     "name": "stdin",
     "output_type": "stream",
     "text": [
      "Enter a string:  Hello\n"
     ]
    },
    {
     "name": "stdout",
     "output_type": "stream",
     "text": [
      "olleH\n"
     ]
    }
   ],
   "source": [
    "user_input = input(\"Enter a string: \")\n",
    "reversed_string = user_input[::-1]\n",
    "print(reversed_string)\n"
   ]
  },
  {
   "cell_type": "code",
   "execution_count": 11,
   "id": "b778d981-e09c-4178-8a89-7b23f1af1f76",
   "metadata": {},
   "outputs": [
    {
     "name": "stdin",
     "output_type": "stream",
     "text": [
      "Enter a string:  83672934\n"
     ]
    },
    {
     "name": "stdout",
     "output_type": "stream",
     "text": [
      "True\n"
     ]
    }
   ],
   "source": [
    "user_input = input(\"Enter a string: \")\n",
    "is_digit = user_input.isdigit()\n",
    "print(is_digit)  # Output: True if the string contains only digits, otherwise False\n"
   ]
  },
  {
   "cell_type": "code",
   "execution_count": 13,
   "id": "b2415181-22b0-43bf-9ae4-f0aefdec6e99",
   "metadata": {},
   "outputs": [
    {
     "name": "stdin",
     "output_type": "stream",
     "text": [
      "Enter a string:  ana\n"
     ]
    },
    {
     "name": "stdout",
     "output_type": "stream",
     "text": [
      "True\n"
     ]
    }
   ],
   "source": [
    "user_input = input(\"Enter a string: \")\n",
    "is_palindrome = user_input == user_input[::-1]\n",
    "print(is_palindrome)  # Output: True if it's a palindrome, otherwise False\n"
   ]
  },
  {
   "cell_type": "code",
   "execution_count": 15,
   "id": "f867a556-fa59-4a4e-8407-538b85e0dae3",
   "metadata": {},
   "outputs": [
    {
     "name": "stdin",
     "output_type": "stream",
     "text": [
      "Enter a string:  joesphjine\n"
     ]
    },
    {
     "name": "stdout",
     "output_type": "stream",
     "text": [
      "Number of vowels: 4\n"
     ]
    }
   ],
   "source": [
    "user_input = input(\"Enter a string: \")\n",
    "vowels = 'aeiouAEIOU'\n",
    "count = sum(1 for char in user_input if char in vowels)\n",
    "print(\"Number of vowels:\", count)\n"
   ]
  },
  {
   "cell_type": "code",
   "execution_count": null,
   "id": "0efe8d67-06e0-4ee8-a76b-aec4e2eb6121",
   "metadata": {},
   "outputs": [],
   "source": []
  }
 ],
 "metadata": {
  "kernelspec": {
   "display_name": "Python 3 (ipykernel)",
   "language": "python",
   "name": "python3"
  },
  "language_info": {
   "codemirror_mode": {
    "name": "ipython",
    "version": 3
   },
   "file_extension": ".py",
   "mimetype": "text/x-python",
   "name": "python",
   "nbconvert_exporter": "python",
   "pygments_lexer": "ipython3",
   "version": "3.12.4"
  }
 },
 "nbformat": 4,
 "nbformat_minor": 5
}
